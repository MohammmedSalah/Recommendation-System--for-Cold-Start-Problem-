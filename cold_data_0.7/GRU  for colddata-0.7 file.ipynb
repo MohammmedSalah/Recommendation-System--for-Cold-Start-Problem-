{
  "metadata": {
    "colab": {
      "provenance": [],
      "gpuType": "T4"
    },
    "kernelspec": {
      "name": "python3",
      "display_name": "Python 3",
      "language": "python"
    },
    "language_info": {
      "name": "python",
      "version": "3.10.12",
      "mimetype": "text/x-python",
      "codemirror_mode": {
        "name": "ipython",
        "version": 3
      },
      "pygments_lexer": "ipython3",
      "nbconvert_exporter": "python",
      "file_extension": ".py"
    },
    "accelerator": "GPU"
  },
  "nbformat_minor": 0,
  "nbformat": 4,
  "cells": [
    {
      "cell_type": "markdown",
      "source": [
        "# **GRURec Model**"
      ],
      "metadata": {
        "id": "qsRA6aUYmw1I"
      }
    },
    {
      "cell_type": "markdown",
      "source": [
        "The GRURec model is an effective recommendation system capable of capturing sequential patterns and customising recommendations based on user preferences and item properties. It's been frequently used in a variety of recommendation activities.\n"
      ],
      "metadata": {
        "id": "Kaz7o1CPbWeF"
      }
    },
    {
      "cell_type": "markdown",
      "source": [
        "The cold start problem occurs when the recommendation system faces difficulties with creating accurate recommendations for new users or objects with little or no historical interaction data."
      ],
      "metadata": {
        "id": "ZwU6JNifcck7"
      }
    },
    {
      "cell_type": "markdown",
      "source": [
        "GRU4Rec model itself can help in addressing the cold start problem to some extent , GRU4Rec is capable of detecting sequential patterns in user-item interactions. When new users or items with minimal interaction data are introduced, the model can use previous interactions to offer initial recommendations based on current behaviour."
      ],
      "metadata": {
        "id": "IpBup943ce-L"
      }
    },
    {
      "cell_type": "markdown",
      "source": [
        "**I worked on \"cold_data_0.7\" csv file**"
      ],
      "metadata": {
        "id": "fJZC785QZPml"
      }
    },
    {
      "cell_type": "markdown",
      "source": [
        "import required libraries"
      ],
      "metadata": {
        "id": "_t-hwKJgYu2m"
      }
    },
    {
      "cell_type": "code",
      "source": [
        "import torch\n",
        "import torch.nn as nn\n",
        "import pandas as pd\n",
        "import torch.optim as optim\n",
        "import matplotlib.pyplot as plt\n",
        "from torch.utils.data import DataLoader, TensorDataset\n",
        "from sklearn.model_selection import train_test_split\n",
        "from sklearn.preprocessing import LabelEncoder\n",
        "from sklearn.metrics import accuracy_score, precision_score, recall_score, f1_score"
      ],
      "metadata": {
        "id": "zJszKJSOY4E6",
        "execution": {
          "iopub.status.busy": "2023-07-24T13:22:36.533231Z",
          "iopub.execute_input": "2023-07-24T13:22:36.534097Z",
          "iopub.status.idle": "2023-07-24T13:22:40.708797Z",
          "shell.execute_reply.started": "2023-07-24T13:22:36.534062Z",
          "shell.execute_reply": "2023-07-24T13:22:40.707598Z"
        },
        "trusted": true,
        "outputId": "8870b12a-1da1-4304-9500-216217d2e594"
      },
      "execution_count": null,
      "outputs": [
        {
          "name": "stderr",
          "text": "/opt/conda/lib/python3.10/site-packages/scipy/__init__.py:146: UserWarning: A NumPy version >=1.16.5 and <1.23.0 is required for this version of SciPy (detected version 1.23.5\n  warnings.warn(f\"A NumPy version >={np_minversion} and <{np_maxversion}\"\n",
          "output_type": "stream"
        }
      ]
    },
    {
      "cell_type": "markdown",
      "source": [
        "**load data**"
      ],
      "metadata": {
        "id": "kem3qtJwYvFF"
      }
    },
    {
      "cell_type": "code",
      "source": [
        "# Load the data\n",
        "data = pd.read_csv('/kaggle/input/cold-start-07-kandeel/cold_data_0.7.csv').head(200000)"
      ],
      "metadata": {
        "id": "ENYJkKMjZC-6",
        "execution": {
          "iopub.status.busy": "2023-07-24T13:23:00.262983Z",
          "iopub.execute_input": "2023-07-24T13:23:00.263368Z",
          "iopub.status.idle": "2023-07-24T13:23:03.629894Z",
          "shell.execute_reply.started": "2023-07-24T13:23:00.263337Z",
          "shell.execute_reply": "2023-07-24T13:23:03.628869Z"
        },
        "trusted": true
      },
      "execution_count": null,
      "outputs": []
    },
    {
      "cell_type": "markdown",
      "source": [
        "**Note**: I used a sample from data because when I use All Data , This lead to The session is Crash"
      ],
      "metadata": {
        "id": "nZf5a2msn4qQ"
      }
    },
    {
      "cell_type": "markdown",
      "source": [
        "**Main steps**\n",
        "\n",
        "1- i used only from the table \"user_id\" , \"items_id\"\n",
        "\n",
        "2- Create two instances of the LabelEncoder class called 'user_encoder' , 'item_encoder'\n",
        "\n",
        "3- Use the 'user_encoder' to transform the values in the 'user_id' column and 'fit_transform' method fits the encoder to the unique values in the 'user_id' column\n",
        "\n",
        "4- repeat the previos step for 'item_encoder'\n",
        "\n",
        "5- splitting the data into two subsets, 'train_data' and 'test_data'\n",
        "\n",
        "6- Define the GRU4Rec model with cold start handling :\n",
        "\n",
        "   - The model takes a sequence of item indices as input and uses an embedding layer to transform them into item embeddings.\n",
        "\n",
        "   - The embeddings are processed through a GRU layer, and item predictions can be generated using a fully connected layer.\n",
        "\n",
        "7- hyperparameters are set for the training process of the GRU4Rec model.\n",
        "   Hyperparameters are :\n",
        "\n",
        "   - num_items: The number of unique items\n",
        "\n",
        "   - embedding_dim: The dimension of the item embeddings\n",
        "\n",
        "   - learning_rate: The learning rate determines the step size\n",
        "\n",
        "   - batch_size: The number of samples\n",
        "\n",
        "   - num_epochs : the number that determining how many times train on data\n",
        "\n",
        "8- Convert data to tensors\n",
        "\n",
        "9- creation of the DataLoader , after creation the model take input in form of batches\n",
        "\n",
        "\n",
        "10 - The model will accept a set of input sequences, generate predictions, calculate the loss using the CrossEntropyLoss, and then backpropagate the gradients through the model to update its parameters using the Adam optimizer.\n",
        "\n",
        "11- train and evalute the model"
      ],
      "metadata": {
        "id": "AXmkgo4Eean8"
      }
    },
    {
      "cell_type": "markdown",
      "source": [
        "**Training Process**\n",
        "\n",
        "1- defines a training on GRU4Rec model to train it on sequential item interactions.\n",
        "\n",
        "2- During each epoch, the model makes predictions, computes the loss using CrossEntropyLoss\n",
        "\n",
        "3- Each epoch's cumulative loss is recorded, and the average loss is calculated\n",
        "\n",
        "4- The 'losses' list stores the average loss values for each epoch\n",
        "\n",
        "5- make a visualization on the model's training for performance"
      ],
      "metadata": {
        "id": "WhIYW96Akf4j"
      }
    },
    {
      "cell_type": "markdown",
      "source": [
        "**Evalution Process**\n",
        "\n",
        "1- evaluation the model using model.eval()\n",
        "\n",
        "2- use two lists (all_predictions , all_targets )to store the predicted and true target item indices\n",
        "\n",
        "3- use test_loader to iterate over test data in batches\n",
        "\n",
        "4- For each batch, the model predicts the next item in the sequence\n",
        "\n",
        "5- calculate evaluation metrics: Recall@20 , Recall@5"
      ],
      "metadata": {
        "id": "lGp5M89AmSip"
      }
    },
    {
      "cell_type": "markdown",
      "source": [
        "**Visulaization**\n",
        "\n",
        "plot the average loss during the training process over each epoch"
      ],
      "metadata": {
        "id": "zm6Ud3OJnlny"
      }
    },
    {
      "cell_type": "code",
      "source": [
        "\n",
        "# Convert user_id and item_id to numerical labels\n",
        "user_encoder = LabelEncoder()\n",
        "item_encoder = LabelEncoder()\n",
        "data['user_id'] = user_encoder.fit_transform(data['user_id'])\n",
        "data['item_id'] = item_encoder.fit_transform(data['item_id'])\n",
        "\n",
        "# Split the data into train and test sets\n",
        "train_data, test_data = train_test_split(data, test_size=0.2, random_state=42)\n",
        "\n",
        "# Define the GRU4Rec model with cold start handling\n",
        "class GRU4Rec(nn.Module):\n",
        "    def __init__(self, num_items, embedding_dim):\n",
        "        super(GRU4Rec, self).__init__()\n",
        "        self.item_embedding = nn.Embedding(num_items, embedding_dim)\n",
        "        self.emb_dropout = nn.Dropout(0.2)\n",
        "        self.gru = nn.GRU(embedding_dim, embedding_dim, batch_first=True)\n",
        "        self.fc = nn.Linear(embedding_dim, num_items)\n",
        "\n",
        "    def forward(self, item_seq):\n",
        "        item_seq_emb = self.item_embedding(item_seq)\n",
        "        item_seq_emb_dropout = self.emb_dropout(item_seq_emb)\n",
        "        gru_output, _ = self.gru(item_seq_emb_dropout)\n",
        "        gru_output = self.fc(gru_output.squeeze(1))\n",
        "        return gru_output\n",
        "\n",
        "# Set the hyperparameters\n",
        "num_items = data['item_id'].nunique()  # 30\n",
        "embedding_dim = 16\n",
        "learning_rate = 0.01\n",
        "num_epochs = 4\n",
        "batch_size = 32\n",
        "\n",
        "# Instantiate the GRU4Rec model\n",
        "model = GRU4Rec(num_items, embedding_dim)\n",
        "\n",
        "# Convert data to tensors\n",
        "X_train = torch.tensor(train_data['item_id'].values, dtype=torch.long)\n",
        "X_test = torch.tensor(test_data['item_id'].values, dtype=torch.long)\n",
        "y_train = torch.tensor(train_data['item_id'].values, dtype=torch.long)\n",
        "y_test = torch.tensor(test_data['item_id'].values, dtype=torch.long)\n",
        "\n",
        "# Create DataLoader for training data\n",
        "train_dataset = TensorDataset(X_train.unsqueeze(1), y_train)\n",
        "train_loader = DataLoader(train_dataset, batch_size=batch_size, shuffle=True)\n",
        "\n",
        "# Create DataLoader for test data\n",
        "test_dataset = TensorDataset(X_test.unsqueeze(1), y_test)\n",
        "test_loader = DataLoader(test_dataset, batch_size=batch_size, shuffle=False)\n",
        "\n",
        "# Define the loss function and optimizer\n",
        "criterion = nn.CrossEntropyLoss()\n",
        "optimizer = optim.Adam(model.parameters(), lr=learning_rate)\n",
        "\n",
        "\n",
        "# Training loop\n",
        "losses = []  # List to store loss values for each epoch\n",
        "for epoch in range(num_epochs):\n",
        "    total_loss = 0.0\n",
        "    model.train()  # Set the model to training mode\n",
        "\n",
        "    for item_seq, targets in train_loader:\n",
        "        optimizer.zero_grad()\n",
        "        outputs = model(item_seq.squeeze(1))  # Reshape the input tensor\n",
        "        loss = criterion(outputs.view(-1, num_items)[:batch_size], targets)\n",
        "        loss.backward()\n",
        "        optimizer.step()\n",
        "\n",
        "        total_loss += loss.item()\n",
        "\n",
        "    avg_loss = total_loss / len(train_loader)\n",
        "    print(f\"Epoch {epoch+1}/{num_epochs}, Average Loss: {avg_loss:.4f}\")\n",
        "    losses.append(avg_loss)  # Store the loss for this epoch\n",
        "\n",
        "    # Clear GPU Cache after each epoch\n",
        "    torch.cuda.empty_cache()\n",
        "\n",
        "\n",
        "# Evaluation\n",
        "# Evaluation\n",
        "    model.eval()\n",
        "    with torch.no_grad():\n",
        "\n",
        "        # Initialize variables to store recall@20 and recall@5\n",
        "        recall_at_20 = 0.0\n",
        "        recall_at_5 = 0.0\n",
        "\n",
        "        for item_seq, targets in test_loader:\n",
        "            outputs = model(item_seq.squeeze(1))\n",
        "            _, predictions = torch.topk(outputs, k=20, dim=1)  # Get top 20 predictions\n",
        "            predictions_at_5 = predictions[:, :5]  # Get top 5 predictions\n",
        "\n",
        "            # Convert targets and predictions to numpy arrays\n",
        "            targets = targets.numpy()\n",
        "            predictions = predictions.numpy()\n",
        "            predictions_at_5 = predictions_at_5.numpy()\n",
        "\n",
        "            # Calculate recall@20 and recall@5 for each batch\n",
        "            batch_recall_at_20 = np.mean([1 if target in pred else 0 for target, pred in zip(targets, predictions)])\n",
        "            batch_recall_at_5 = np.mean([1 if target in pred else 0 for target, pred in zip(targets, predictions_at_5)])\n",
        "\n",
        "            # Accumulate recall@20 and recall@5 for all batches\n",
        "            recall_at_20 += batch_recall_at_20\n",
        "            recall_at_5 += batch_recall_at_5\n",
        "\n",
        "        # Calculate average recall@20 and recall@5\n",
        "        avg_recall_at_20 = recall_at_20 / len(test_loader)\n",
        "        avg_recall_at_5 = recall_at_5 / len(test_loader)\n",
        "\n",
        "        print(f'Recall@20: {avg_recall_at_20:.4f}')\n",
        "        print(f'Recall@5: {avg_recall_at_5:.4f}')\n",
        "        print(\"*\" * 45)\n",
        "\n",
        "# Plot the loss\n",
        "plt.plot(range(1, num_epochs + 1), losses, marker='o')\n",
        "plt.xlabel('Epoch')\n",
        "plt.ylabel('Average Loss')\n",
        "plt.title('Loss over Epochs')\n",
        "plt.show()"
      ],
      "metadata": {
        "colab": {
          "base_uri": "https://localhost:8080/",
          "height": 888
        },
        "id": "0Ju4x2cjPDuq",
        "outputId": "0ca33c54-70a4-44b9-e7ce-75fb445f415d",
        "execution": {
          "iopub.status.busy": "2023-07-24T13:25:54.792284Z",
          "iopub.execute_input": "2023-07-24T13:25:54.793197Z",
          "iopub.status.idle": "2023-07-24T13:37:24.973867Z",
          "shell.execute_reply.started": "2023-07-24T13:25:54.793153Z",
          "shell.execute_reply": "2023-07-24T13:37:24.972885Z"
        },
        "trusted": true
      },
      "execution_count": null,
      "outputs": [
        {
          "name": "stdout",
          "text": "Epoch 1/4, Average Loss: 7.9791\nRecall@20: 0.5727\nRecall@5: 0.4973\n*********************************************\nEpoch 2/4, Average Loss: 5.2716\nRecall@20: 0.6714\nRecall@5: 0.5949\n*********************************************\nEpoch 3/4, Average Loss: 4.3308\nRecall@20: 0.7157\nRecall@5: 0.6382\n*********************************************\nEpoch 4/4, Average Loss: 3.8366\nRecall@20: 0.7411\nRecall@5: 0.6646\n*********************************************\n",
          "output_type": "stream"
        },
        {
          "output_type": "display_data",
          "data": {
            "text/plain": "<Figure size 640x480 with 1 Axes>",
            "image/png": "[encoded data removed]"
          },
          "metadata": {}
        }
      ]
    },
    {
      "cell_type": "markdown",
      "source": [
        "**Result**"
      ],
      "metadata": {
        "id": "MasiXC4Ir3Ni"
      }
    },
    {
      "cell_type": "markdown",
      "source": [
        "\n",
        "I notice that the model learn well , and the loss decrease during Evalution process over epoches and all metrices increase over epoches\n",
        "\n",
        "- the Average Loss in Epoch 1 is  7.9791 , Recall@20: 0.5727 , Recall@5: 0.4973\n",
        "\n",
        "- the Average Loss in Epoch 2 is  5.2716 , Recall@20: 0.6714 , Recall@5: 0.5949\n",
        "\n",
        "- the Average Loss in Epoch 3 is  4.3308 , Recall@20: 0.7157 , Recall@5: 0.6382\n",
        "\n",
        "- the Average Loss in Epoch 4 is  3.8366 , Recall@20: 0.7411 , Recall@5: 0.6646\n",
        "\n",
        "\n"
      ],
      "metadata": {
        "id": "_FHExVKdsKJ6"
      }
    },
    {
      "cell_type": "markdown",
      "source": [
        "**Change HyperParameters**"
      ],
      "metadata": {
        "id": "jM3vG7T2tehw"
      }
    },
    {
      "cell_type": "markdown",
      "source": [
        "**I load the Data Again and change the number of samples and the number of epoches**"
      ],
      "metadata": {
        "id": "hDCXSLKltA0p"
      }
    },
    {
      "cell_type": "code",
      "source": [
        "# Load the data\n",
        "data = pd.read_csv('/kaggle/input/cold-start-07-kandeel/cold_data_0.7.csv').head(300000)"
      ],
      "metadata": {
        "id": "JXM3NTtMnHy5",
        "execution": {
          "iopub.status.busy": "2023-07-24T13:42:41.337982Z",
          "iopub.execute_input": "2023-07-24T13:42:41.339103Z",
          "iopub.status.idle": "2023-07-24T13:42:43.834358Z",
          "shell.execute_reply.started": "2023-07-24T13:42:41.339062Z",
          "shell.execute_reply": "2023-07-24T13:42:43.832897Z"
        },
        "trusted": true
      },
      "execution_count": null,
      "outputs": []
    },
    {
      "cell_type": "code",
      "source": [
        "\n",
        "# Convert user_id and item_id to numerical labels\n",
        "user_encoder = LabelEncoder()\n",
        "item_encoder = LabelEncoder()\n",
        "data['user_id'] = user_encoder.fit_transform(data['user_id'])\n",
        "data['item_id'] = item_encoder.fit_transform(data['item_id'])\n",
        "\n",
        "# Split the data into train and test sets\n",
        "train_data, test_data = train_test_split(data, test_size=0.2, random_state=42)\n",
        "\n",
        "# Define the GRU4Rec model with cold start handling\n",
        "class GRU4Rec(nn.Module):\n",
        "    def __init__(self, num_items, embedding_dim):\n",
        "        super(GRU4Rec, self).__init__()\n",
        "        self.item_embedding = nn.Embedding(num_items, embedding_dim)\n",
        "        self.emb_dropout = nn.Dropout(0.2)\n",
        "        self.gru = nn.GRU(embedding_dim, embedding_dim, batch_first=True)\n",
        "        self.fc = nn.Linear(embedding_dim, num_items)\n",
        "\n",
        "    def forward(self, item_seq):\n",
        "        item_seq_emb = self.item_embedding(item_seq)\n",
        "        item_seq_emb_dropout = self.emb_dropout(item_seq_emb)\n",
        "        gru_output, _ = self.gru(item_seq_emb_dropout)\n",
        "        gru_output = self.fc(gru_output.squeeze(1))\n",
        "        return gru_output\n",
        "\n",
        "# Set the hyperparameters\n",
        "num_items = data['item_id'].nunique()  # 30\n",
        "embedding_dim = 16\n",
        "learning_rate = 0.01\n",
        "num_epochs = 6\n",
        "batch_size = 32\n",
        "\n",
        "# Instantiate the GRU4Rec model\n",
        "model = GRU4Rec(num_items, embedding_dim)\n",
        "\n",
        "# Convert data to tensors\n",
        "X_train = torch.tensor(train_data['item_id'].values, dtype=torch.long)\n",
        "X_test = torch.tensor(test_data['item_id'].values, dtype=torch.long)\n",
        "y_train = torch.tensor(train_data['item_id'].values, dtype=torch.long)\n",
        "y_test = torch.tensor(test_data['item_id'].values, dtype=torch.long)\n",
        "\n",
        "# Create DataLoader for training data\n",
        "train_dataset = TensorDataset(X_train.unsqueeze(1), y_train)\n",
        "train_loader = DataLoader(train_dataset, batch_size=batch_size, shuffle=True)\n",
        "\n",
        "# Create DataLoader for test data\n",
        "test_dataset = TensorDataset(X_test.unsqueeze(1), y_test)\n",
        "test_loader = DataLoader(test_dataset, batch_size=batch_size, shuffle=False)\n",
        "\n",
        "# Define the loss function and optimizer\n",
        "criterion = nn.CrossEntropyLoss()\n",
        "optimizer = optim.Adam(model.parameters(), lr=learning_rate)\n",
        "\n",
        "\n",
        "# Training loop\n",
        "losses = []  # List to store loss values for each epoch\n",
        "for epoch in range(num_epochs):\n",
        "    total_loss = 0.0\n",
        "    model.train()  # Set the model to training mode\n",
        "\n",
        "    for item_seq, targets in train_loader:\n",
        "        optimizer.zero_grad()\n",
        "        outputs = model(item_seq.squeeze(1))  # Reshape the input tensor\n",
        "        loss = criterion(outputs.view(-1, num_items)[:batch_size], targets)\n",
        "        loss.backward()\n",
        "        optimizer.step()\n",
        "\n",
        "        total_loss += loss.item()\n",
        "\n",
        "    avg_loss = total_loss / len(train_loader)\n",
        "    print(f\"Epoch {epoch+1}/{num_epochs}, Average Loss: {avg_loss:.4f}\")\n",
        "    losses.append(avg_loss)  # Store the loss for this epoch\n",
        "\n",
        "    # Clear GPU Cache after each epoch\n",
        "    torch.cuda.empty_cache()\n",
        "\n",
        "\n",
        "# Evaluation\n",
        "# Evaluation\n",
        "    model.eval()\n",
        "    with torch.no_grad():\n",
        "\n",
        "        # Initialize variables to store recall@20 and recall@5\n",
        "        recall_at_20 = 0.0\n",
        "        recall_at_5 = 0.0\n",
        "\n",
        "        for item_seq, targets in test_loader:\n",
        "            outputs = model(item_seq.squeeze(1))\n",
        "            _, predictions = torch.topk(outputs, k=20, dim=1)  # Get top 20 predictions\n",
        "            predictions_at_5 = predictions[:, :5]  # Get top 5 predictions\n",
        "\n",
        "            # Convert targets and predictions to numpy arrays\n",
        "            targets = targets.numpy()\n",
        "            predictions = predictions.numpy()\n",
        "            predictions_at_5 = predictions_at_5.numpy()\n",
        "\n",
        "            # Calculate recall@20 and recall@5 for each batch\n",
        "            batch_recall_at_20 = np.mean([1 if target in pred else 0 for target, pred in zip(targets, predictions)])\n",
        "            batch_recall_at_5 = np.mean([1 if target in pred else 0 for target, pred in zip(targets, predictions_at_5)])\n",
        "\n",
        "            # Accumulate recall@20 and recall@5 for all batches\n",
        "            recall_at_20 += batch_recall_at_20\n",
        "            recall_at_5 += batch_recall_at_5\n",
        "\n",
        "        # Calculate average recall@20 and recall@5\n",
        "        avg_recall_at_20 = recall_at_20 / len(test_loader)\n",
        "        avg_recall_at_5 = recall_at_5 / len(test_loader)\n",
        "\n",
        "        print(f'Recall@20: {avg_recall_at_20:.4f}')\n",
        "        print(f'Recall@5: {avg_recall_at_5:.4f}')\n",
        "        print(\"*\" * 45)\n",
        "\n",
        "# Plot the loss\n",
        "plt.plot(range(1, num_epochs + 1), losses, marker='o')\n",
        "plt.xlabel('Epoch')\n",
        "plt.ylabel('Average Loss')\n",
        "plt.title('Loss over Epochs')\n",
        "plt.show()"
      ],
      "metadata": {
        "colab": {
          "base_uri": "https://localhost:8080/",
          "height": 1000
        },
        "id": "dMO_0ElIPPkJ",
        "outputId": "9306f844-59fe-4fe7-ab7d-91f7f9a29916",
        "execution": {
          "iopub.status.busy": "2023-07-24T13:42:44.775062Z",
          "iopub.execute_input": "2023-07-24T13:42:44.775430Z",
          "iopub.status.idle": "2023-07-24T14:13:28.468403Z",
          "shell.execute_reply.started": "2023-07-24T13:42:44.775400Z",
          "shell.execute_reply": "2023-07-24T14:13:28.467446Z"
        },
        "trusted": true
      },
      "execution_count": null,
      "outputs": [
        {
          "name": "stdout",
          "text": "Epoch 1/6, Average Loss: 7.5466\nRecall@20: 0.6187\nRecall@5: 0.5424\n*********************************************\nEpoch 2/6, Average Loss: 4.9555\nRecall@20: 0.6985\nRecall@5: 0.6236\n*********************************************\nEpoch 3/6, Average Loss: 4.1765\nRecall@20: 0.7298\nRecall@5: 0.6595\n*********************************************\nEpoch 4/6, Average Loss: 3.8485\nRecall@20: 0.7417\nRecall@5: 0.6715\n*********************************************\nEpoch 5/6, Average Loss: 3.6766\nRecall@20: 0.7489\nRecall@5: 0.6834\n*********************************************\nEpoch 6/6, Average Loss: 3.5946\nRecall@20: 0.7500\nRecall@5: 0.6876\n*********************************************\n",
          "output_type": "stream"
        },
        {
          "output_type": "display_data",
          "data": {
            "text/plain": "<Figure size 640x480 with 1 Axes>",
            "image/png": "[encoded data removed]"
          },
          "metadata": {}
        }
      ]
    },
    {
      "cell_type": "markdown",
      "source": [
        "**Result**\n",
        "\n",
        "I notice that the model learn well , and the loss decrease during Evalution process over epoches and all metrices increase over epoches\n",
        "\n",
        "- the Average Loss in Epoch 1 is 7.5466 , Recall@20: 0.6187 , Recall@5: 0.5424\n",
        "\n",
        "- the Average Loss in Epoch 2 is 4.9555 , Recall@20: 0.6985 , Recall@5: 0.6236\n",
        "\n",
        "- the Average Loss in Epoch 3 is 4.1765 , Recall@20: 0.7298 , Recall@5: 0.6595\n",
        "\n",
        "- the Average Loss in Epoch 4 is 3.8485, Recall@20: 0.7417 , Recall@5: 0.6715\n",
        "\n",
        "- the Average Loss in Epoch 5 is 3.6766 , Recall@20: 0.7489 , Recall@5: 0.6834\n",
        "\n",
        "- the Average Loss in Epoch 6 is 3.5946 , Recall@20: 0.7500 , Recall@5: 0.6876"
      ],
      "metadata": {
        "id": "YNv8Xhw2uTno"
      }
    }
  ]
}