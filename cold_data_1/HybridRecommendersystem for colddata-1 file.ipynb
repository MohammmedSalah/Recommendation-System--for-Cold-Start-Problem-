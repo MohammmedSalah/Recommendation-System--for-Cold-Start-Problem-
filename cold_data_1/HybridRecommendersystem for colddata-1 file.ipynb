{
  "cells": [
    {
      "cell_type": "markdown",
      "metadata": {
        "id": "mjyvBMUXatA3"
      },
      "source": [
        "# **Hybrid Recommender system**"
      ]
    },
    {
      "cell_type": "markdown",
      "metadata": {
        "id": "_BcHk51cazdf"
      },
      "source": [
        "For creating personalised item recommendations for users, the hybrid recommender system combines collaborative filtering (matrix factorization) with content-based filtering (item characteristics)."
      ]
    },
    {
      "cell_type": "markdown",
      "metadata": {
        "id": "fVJ-UtERblob"
      },
      "source": [
        "**How the hybrid recommender system works**\n",
        "\n",
        "1- **Collaborative Filtering** : matrix factorization is utilised for learn deep representations (embeddings) for users and items , By factoring the user-item interaction matrix, the user and item embeddings are learned.\n",
        "\n",
        "2- **Content-Based Filtering** : The model captures item content information using item attributes, which are represented as the item_attributes_matrix.\n",
        "\n",
        "3- **Hybrid Score** : combine Collaborative Filtering with Content-Based Filtering for calculating hybrid recommendation score\n",
        "\n",
        "4- Training and Evalution"
      ]
    },
    {
      "cell_type": "markdown",
      "metadata": {
        "id": "oF9ybzVIfLUu"
      },
      "source": [
        "***Note*** : The hybrid recommender system uses both user-item interactions and item characteristics to give personalised and accurate recommendations by combining collaborative filtering and content-based filtering."
      ]
    },
    {
      "cell_type": "markdown",
      "metadata": {
        "id": "dzD_0dnufW01"
      },
      "source": [
        "**Import the required libraries**"
      ]
    },
    {
      "cell_type": "code",
      "execution_count": null,
      "metadata": {
        "id": "6ifHECm1fVHF"
      },
      "outputs": [],
      "source": [
        "import pandas as pd\n",
        "import torch\n",
        "import torch.nn as nn\n",
        "import torch.optim as optim\n",
        "from torch.utils.data import DataLoader, TensorDataset\n",
        "from sklearn.preprocessing import LabelEncoder\n",
        "from sklearn.model_selection import train_test_split\n",
        "from sklearn.metrics import mean_squared_error\n",
        "import matplotlib.pyplot as plt"
      ]
    },
    {
      "cell_type": "markdown",
      "metadata": {
        "id": "Z2q6paEBgI_2"
      },
      "source": [
        "**Main Points**\n",
        "\n",
        "1- determines the number of unique users and items in the interactions DataFrame to determine the  dimensions of the user-item interaction matrix and get the number of attribute for each item , and convert the data to numerical\n",
        "\n",
        "2- splits the data into training and test sets using train_test_split , The training data is further filtered to only include item IDs from the mapping dictionary.\n",
        "\n",
        "3- creates a DataLoader to deal with data as batches\n",
        "\n",
        "4-combines matrix factorization and content-based filtering is represented by the HybridRecommender class.\n",
        "\n",
        "5- The architecture of the model consists of embedding layers for users and items (matrix factorization) as well as a content-based filtering module for item attributes."
      ]
    },
    {
      "cell_type": "markdown",
      "metadata": {
        "id": "-E3VbbWgoFzL"
      },
      "source": [
        "**Training**\n",
        "\n",
        "1- The Mean Squared Error (MSE) loss is used as the optimisation criterion during model training.\n",
        "\n",
        "2- using AdAM optimizer to update the model's parameters during training\n",
        "\n",
        "3- use the number of epochs to learn the embeddings and the parameters for the content-based filtering."
      ]
    },
    {
      "cell_type": "markdown",
      "metadata": {
        "id": "KHGcJzLSqFgS"
      },
      "source": [
        "**Evalution**\n",
        "\n",
        "\n",
        "1- The model's predictions are compared to the actual user-item interactions from the test data to compute the Mean Squared Error (MSE).\n",
        "\n",
        "2- calculates three evaluation metrics: accuracy, recall, and precision"
      ]
    },
    {
      "cell_type": "code",
      "execution_count": null,
      "metadata": {
        "colab": {
          "base_uri": "https://localhost:8080/",
          "height": 646
        },
        "id": "507A0BR-OGjp",
        "outputId": "c4869cf5-7141-4eaf-9e0b-b90ff8f3cc41"
      },
      "outputs": [
        {
          "name": "stderr",
          "output_type": "stream",
          "text": [
            "/tmp/ipykernel_70403/569344193.py:14: PerformanceWarning: The following operation may generate 2902875910 cells in the resulting pandas object.\n",
            "  interaction_matrix = interactions_df.pivot_table(index='user_id', columns='item_id', values='click', fill_value=0)\n"
          ]
        },
        {
          "name": "stdout",
          "output_type": "stream",
          "text": [
            "Epoch 1/10, Average Loss: 14.5141\n",
            "Epoch 2/10, Average Loss: 5.5325\n",
            "Epoch 3/10, Average Loss: 3.4483\n",
            "Epoch 4/10, Average Loss: 3.8056\n",
            "Epoch 5/10, Average Loss: 3.9492\n",
            "Epoch 6/10, Average Loss: 3.2495\n",
            "Epoch 7/10, Average Loss: 2.7572\n",
            "Epoch 8/10, Average Loss: 2.5266\n",
            "Epoch 9/10, Average Loss: 2.3400\n",
            "Epoch 10/10, Average Loss: 2.0749\n"
          ]
        },
        {
          "data": {
            "image/png": "[encoded data removed]",
            "text/plain": [
              "<Figure size 640x480 with 1 Axes>"
            ]
          },
          "metadata": {},
          "output_type": "display_data"
        }
      ],
      "source": [
        "# Sample item attributes matrix (for illustration purposes)\n",
        "item_attributes_matrix = torch.randn(30, 10)  # 30 items, 10 attributes\n",
        "\n",
        "# Sample user-item interaction data (for illustration purposes)\n",
        "# Replace 'your_table.csv' with the actual file name or path of your data\n",
        "# Assuming the table has 'user_id', 'item_id', and 'click' columns\n",
        "interactions_df = pd.read_csv('cold_data_1.csv').head(200000)\n",
        "interactions_df.drop_duplicates(subset=['user_id', 'item_id'], keep='first', inplace=True)\n",
        "\n",
        "# For example, if you want to sum the 'click' values for duplicate user-item pairs\n",
        "interactions_df = interactions_df.groupby(['user_id', 'item_id']).agg({'click': 'sum'}).reset_index()\n",
        "\n",
        "# Create the interaction matrix (using 'click' as the rating proxy)\n",
        "interaction_matrix = interactions_df.pivot_table(index='user_id', columns='item_id', values='click', fill_value=0)\n",
        "interaction_matrix = interaction_matrix.fillna(0).values\n",
        "\n",
        "# Create a mapping dictionary for item_ids to indices\n",
        "item_id_to_index = {item_id: idx for idx, item_id in enumerate(interactions_df['item_id'].unique())}\n",
        "\n",
        "# Set hyperparameters\n",
        "num_users = interactions_df['user_id'].nunique()\n",
        "num_items = interactions_df['item_id'].nunique()\n",
        "num_attributes = item_attributes_matrix.shape[1]\n",
        "embedding_dim = 16\n",
        "learning_rate = 0.01\n",
        "num_epochs = 10\n",
        "batch_size = 32\n",
        "\n",
        "# Convert user and item IDs to numerical labels using LabelEncoder\n",
        "user_encoder = LabelEncoder()\n",
        "interactions_df['user_id'] = user_encoder.fit_transform(interactions_df['user_id'])\n",
        "item_encoder = LabelEncoder()\n",
        "interactions_df['item_id'] = item_encoder.fit_transform(interactions_df['item_id'])\n",
        "\n",
        "# Split the data into train and test sets\n",
        "train_data, test_data = train_test_split(interactions_df, test_size=0.2, random_state=42)\n",
        "\n",
        "# Filter train data to include only the item_ids present in the mapping dictionary\n",
        "train_data = train_data[train_data['item_id'].isin(item_id_to_index)]\n",
        "\n",
        "# Create DataLoader for training data\n",
        "X_train_users = torch.tensor(train_data['user_id'].values, dtype=torch.long)\n",
        "X_train_items = torch.tensor(train_data['item_id'].values, dtype=torch.long)\n",
        "\n",
        "# Map the item IDs to their respective indices\n",
        "X_train_indices = train_data['item_id'].map(item_id_to_index)\n",
        "X_train_indices = X_train_indices.values\n",
        "\n",
        "# Check if any indices are out of bounds for item_attributes_matrix\n",
        "if (X_train_indices >= item_attributes_matrix.shape[0]).any():\n",
        "    num_missing_items = (X_train_indices >= item_attributes_matrix.shape[0]).sum()\n",
        "    item_attributes_matrix = torch.cat(\n",
        "        [item_attributes_matrix, torch.zeros(num_missing_items, num_attributes)],\n",
        "        dim=0\n",
        "    )\n",
        "\n",
        "# Indexing into item_attributes_matrix using the mapped indices\n",
        "X_train_attributes = item_attributes_matrix[X_train_indices]\n",
        "\n",
        "train_dataset = TensorDataset(X_train_users, X_train_items, X_train_attributes)\n",
        "train_loader = DataLoader(train_dataset, batch_size=batch_size, shuffle=True)\n",
        "\n",
        "# Instantiate the hybrid recommender model\n",
        "class HybridRecommender(nn.Module):\n",
        "    def __init__(self, num_users, num_items, embedding_dim, num_attributes):\n",
        "        super(HybridRecommender, self).__init__()\n",
        "        # Matrix factorization for user and item embeddings\n",
        "        self.user_embedding = nn.Embedding(num_users, embedding_dim)\n",
        "        self.item_embedding = nn.Embedding(num_items, embedding_dim)\n",
        "        # Content-based filtering module for item attributes\n",
        "        self.content_module = nn.Sequential(\n",
        "            nn.Linear(num_attributes, 32),  # Adjust hidden layers as needed\n",
        "            nn.ReLU(),\n",
        "            nn.Linear(32, embedding_dim)\n",
        "        )\n",
        "\n",
        "    def forward(self, user_ids, item_ids, item_attributes):\n",
        "        # Matrix factorization embeddings\n",
        "        user_embeds = self.user_embedding(user_ids)\n",
        "        item_embeds = self.item_embedding(item_ids)\n",
        "        # Content-based filtering embeddings\n",
        "        item_content_embeds = self.content_module(item_attributes)\n",
        "\n",
        "        # Combine matrix factorization and content-based embeddings\n",
        "        user_item_interaction = torch.sum(user_embeds * item_embeds, dim=1)\n",
        "        user_item_content_interaction = torch.sum(user_embeds * item_content_embeds, dim=1)\n",
        "\n",
        "        # Hybrid recommendation score\n",
        "        hybrid_score = user_item_interaction + user_item_content_interaction\n",
        "        return hybrid_score\n",
        "\n",
        "# Instantiate the hybrid recommender model\n",
        "model = HybridRecommender(num_users, num_items, embedding_dim, num_attributes)\n",
        "\n",
        "# Define the loss function and optimizer\n",
        "criterion = nn.MSELoss()\n",
        "optimizer = optim.Adam(model.parameters(), lr=learning_rate)\n",
        "\n",
        "# Training loop\n",
        "losses = []\n",
        "for epoch in range(num_epochs):\n",
        "    total_loss = 0.0\n",
        "    model.train()\n",
        "\n",
        "    for user_ids, item_ids, item_attributes in train_loader:\n",
        "        optimizer.zero_grad()\n",
        "        hybrid_scores = model(user_ids, item_ids, item_attributes)\n",
        "        targets = torch.tensor(interaction_matrix[user_ids, item_ids], dtype=torch.float)\n",
        "        loss = criterion(hybrid_scores, targets)\n",
        "        loss.backward()\n",
        "        optimizer.step()\n",
        "\n",
        "        total_loss += loss.item()\n",
        "\n",
        "    avg_loss = total_loss / len(train_loader)\n",
        "    losses.append(avg_loss)  # Store the loss value for this epoch\n",
        "    print(f\"Epoch {epoch+1}/{num_epochs}, Average Loss: {avg_loss:.4f}\")\n",
        "\n",
        "# Plot the loss values\n",
        "plt.plot(range(1, num_epochs + 1), losses)\n",
        "plt.xlabel('Epoch')\n",
        "plt.ylabel('Average Loss')\n",
        "plt.title('Training Loss')\n",
        "plt.show()"
      ]
    },
    {
      "cell_type": "markdown",
      "metadata": {
        "id": "l_pDY_KIqpFI"
      },
      "source": [
        "**Result on Train**\n",
        "\n",
        "I notice that the model during training process learn well , because of the loss decrease over epoches"
      ]
    },
    {
      "cell_type": "code",
      "execution_count": null,
      "metadata": {
        "colab": {
          "base_uri": "https://localhost:8080/"
        },
        "id": "kQlpMHQxAnQb",
        "outputId": "1defbdc1-449c-44ec-dfa1-2e83ca0f769d"
      },
      "outputs": [
        {
          "name": "stdout",
          "output_type": "stream",
          "text": [
            "Test Mean Squared Error: 10.9663\n",
            "Accuracy: 0.1461\n",
            "Recall: 0.1461\n",
            "Precision: 0.9999\n"
          ]
        },
        {
          "name": "stderr",
          "output_type": "stream",
          "text": [
            "/opt/conda/lib/python3.9/site-packages/sklearn/metrics/_classification.py:1344: UndefinedMetricWarning: Recall is ill-defined and being set to 0.0 in labels with no true samples. Use `zero_division` parameter to control this behavior.\n",
            "  _warn_prf(average, modifier, msg_start, len(result))\n"
          ]
        }
      ],
      "source": [
        "# Evaluation\n",
        "from sklearn.metrics import mean_squared_error, accuracy_score, precision_score, recall_score\n",
        "model.eval()\n",
        "with torch.no_grad():\n",
        "    test_users = torch.tensor(test_data['user_id'].values, dtype=torch.long)\n",
        "\n",
        "    # Map test item IDs to their respective indices\n",
        "    test_items = test_data['item_id'].map(item_id_to_index)\n",
        "\n",
        "    # Filter out invalid test items with out-of-bounds indices\n",
        "    valid_mask = (test_items >= 0) & (test_items < item_attributes_matrix.shape[0])\n",
        "    valid_indices = torch.nonzero(torch.tensor(valid_mask.values), as_tuple=False).squeeze()\n",
        "\n",
        "    # Remove invalid test item IDs and corresponding users from the test data\n",
        "    test_data = test_data.iloc[valid_indices]\n",
        "\n",
        "    # Map the valid test item IDs to their respective indices again\n",
        "    test_items = test_data['item_id'].map(item_id_to_index)\n",
        "\n",
        "    # Ensure that all the items in test_items have valid indices\n",
        "    if (test_items < 0).any() or (test_items >= item_attributes_matrix.shape[0]).any():\n",
        "        raise ValueError(\"Indices out of bounds for item_attributes_matrix\")\n",
        "\n",
        "    # Convert the test_items series to a tensor\n",
        "    test_items = torch.tensor(test_items.values, dtype=torch.long)\n",
        "\n",
        "    # Check if any valid test item IDs are missing from the item_attributes_matrix\n",
        "    missing_items_mask = (test_items >= item_attributes_matrix.shape[0])\n",
        "    missing_items = test_items[missing_items_mask]\n",
        "    if len(missing_items) > 0:\n",
        "        num_missing_items = len(missing_items)\n",
        "        item_attributes_matrix = torch.cat(\n",
        "            [item_attributes_matrix, torch.zeros(num_missing_items, num_attributes)],\n",
        "            dim=0\n",
        "        )\n",
        "        # Update the item_id_to_index dictionary for the missing items\n",
        "        for i, idx in enumerate(missing_items):\n",
        "            item_id_to_index[test_data.iloc[idx].item_id] = item_attributes_matrix.shape[0] - num_missing_items + i\n",
        "\n",
        "    # Map the valid test item IDs to their respective indices again (including the newly added items)\n",
        "    test_items = test_data['item_id'].map(item_id_to_index)\n",
        "\n",
        "    # Convert the test_items series to a tensor\n",
        "    test_items = torch.tensor(test_items.values, dtype=torch.long)\n",
        "\n",
        "    # Map the valid test item IDs to their respective indices again\n",
        "    test_attributes = item_attributes_matrix[test_items]\n",
        "\n",
        "    test_scores = model(test_users, test_items, test_attributes)\n",
        "    test_targets = torch.tensor(interaction_matrix[test_users, test_items], dtype=torch.float)\n",
        "\n",
        "    mse = mean_squared_error(test_scores, test_targets)\n",
        "    print(f\"Test Mean Squared Error: {mse:.4f}\")\n",
        "\n",
        "    # Compute and print accuracy, recall, and precision\n",
        "    test_preds = torch.round(test_scores)\n",
        "    accuracy = accuracy_score(test_targets, test_preds)\n",
        "    recall = recall_score(test_targets, test_preds, average='weighted')\n",
        "    precision = precision_score(test_targets, test_preds, average='weighted')\n",
        "    print(f\"Accuracy: {accuracy:.4f}\")\n",
        "    print(f\"Recall: {recall:.4f}\")\n",
        "    print(f\"Precision: {precision:.4f}\")\n"
      ]
    },
    {
      "cell_type": "markdown",
      "metadata": {
        "id": "K0FjFjZ5riXh"
      },
      "source": [
        "**Result on Evalution** :\n",
        "\n",
        "Test Mean Squared Error: 10.9663\n",
        "\n",
        "Accuracy: 0.1461\n",
        "\n",
        "Recall: 0.1461\n",
        "\n",
        "Precision: 0.9999"
      ]
    },
    {
      "cell_type": "markdown",
      "metadata": {
        "id": "pTI9qvjGr4Fa"
      },
      "source": [
        "# **Hyperparameter Tuning**\n",
        "\n",
        "\n",
        "- Different learning_rates (0.01, 0.001)\n",
        "\n",
        "- Different num_epochs_list (10, 20)"
      ]
    },
    {
      "cell_type": "code",
      "execution_count": null,
      "metadata": {
        "colab": {
          "base_uri": "https://localhost:8080/",
          "height": 1000
        },
        "id": "N4EnKwSNxRC4",
        "outputId": "7a4f1a95-6ad1-46d5-98f3-cc97d1e6a12c"
      },
      "outputs": [
        {
          "name": "stderr",
          "output_type": "stream",
          "text": [
            "/tmp/ipykernel_70403/1968925288.py:14: PerformanceWarning: The following operation may generate 2902875910 cells in the resulting pandas object.\n",
            "  interaction_matrix = interactions_df.pivot_table(index='user_id', columns='item_id', values='click', fill_value=0)\n"
          ]
        },
        {
          "name": "stdout",
          "output_type": "stream",
          "text": [
            "\n",
            "===== Hyperparameters: LR=0.01, Epochs=10 =====\n",
            "Epoch 1/10, Average Loss: 14.3065\n",
            "Epoch 2/10, Average Loss: 5.5118\n",
            "Epoch 3/10, Average Loss: 3.4239\n",
            "Epoch 4/10, Average Loss: 3.7957\n",
            "Epoch 5/10, Average Loss: 3.9144\n",
            "Epoch 6/10, Average Loss: 3.2187\n",
            "Epoch 7/10, Average Loss: 2.7481\n",
            "Epoch 8/10, Average Loss: 2.4959\n",
            "Epoch 9/10, Average Loss: 2.3075\n",
            "Epoch 10/10, Average Loss: 2.0690\n",
            "\n",
            "===== Hyperparameters: LR=0.01, Epochs=20 =====\n",
            "Epoch 1/20, Average Loss: 14.2946\n",
            "Epoch 2/20, Average Loss: 5.4150\n",
            "Epoch 3/20, Average Loss: 3.4538\n",
            "Epoch 4/20, Average Loss: 3.8284\n",
            "Epoch 5/20, Average Loss: 3.9694\n",
            "Epoch 6/20, Average Loss: 3.2490\n",
            "Epoch 7/20, Average Loss: 2.7502\n",
            "Epoch 8/20, Average Loss: 2.5196\n",
            "Epoch 9/20, Average Loss: 2.3400\n",
            "Epoch 10/20, Average Loss: 2.0876\n",
            "Epoch 11/20, Average Loss: 1.9093\n",
            "Epoch 12/20, Average Loss: 1.7529\n",
            "Epoch 13/20, Average Loss: 1.6286\n",
            "Epoch 14/20, Average Loss: 1.5139\n",
            "Epoch 15/20, Average Loss: 1.4039\n",
            "Epoch 16/20, Average Loss: 1.3199\n",
            "Epoch 17/20, Average Loss: 1.2551\n",
            "Epoch 18/20, Average Loss: 1.1840\n",
            "Epoch 19/20, Average Loss: 1.1302\n",
            "Epoch 20/20, Average Loss: 1.0784\n",
            "\n",
            "===== Hyperparameters: LR=0.001, Epochs=10 =====\n",
            "Epoch 1/10, Average Loss: 16.5674\n",
            "Epoch 2/10, Average Loss: 13.1887\n",
            "Epoch 3/10, Average Loss: 10.1239\n",
            "Epoch 4/10, Average Loss: 7.6842\n",
            "Epoch 5/10, Average Loss: 5.7674\n",
            "Epoch 6/10, Average Loss: 4.2736\n",
            "Epoch 7/10, Average Loss: 3.1262\n",
            "Epoch 8/10, Average Loss: 2.2545\n",
            "Epoch 9/10, Average Loss: 1.6059\n",
            "Epoch 10/10, Average Loss: 1.1319\n",
            "\n",
            "===== Hyperparameters: LR=0.001, Epochs=20 =====\n",
            "Epoch 1/20, Average Loss: 16.6946\n",
            "Epoch 2/20, Average Loss: 13.2892\n",
            "Epoch 3/20, Average Loss: 10.2023\n",
            "Epoch 4/20, Average Loss: 7.7488\n",
            "Epoch 5/20, Average Loss: 5.8231\n",
            "Epoch 6/20, Average Loss: 4.3187\n",
            "Epoch 7/20, Average Loss: 3.1624\n",
            "Epoch 8/20, Average Loss: 2.2898\n",
            "Epoch 9/20, Average Loss: 1.6364\n",
            "Epoch 10/20, Average Loss: 1.1578\n",
            "Epoch 11/20, Average Loss: 0.8124\n",
            "Epoch 12/20, Average Loss: 0.5689\n",
            "Epoch 13/20, Average Loss: 0.3987\n",
            "Epoch 14/20, Average Loss: 0.2839\n",
            "Epoch 15/20, Average Loss: 0.2055\n",
            "Epoch 16/20, Average Loss: 0.1547\n",
            "Epoch 17/20, Average Loss: 0.1208\n",
            "Epoch 18/20, Average Loss: 0.0994\n",
            "Epoch 19/20, Average Loss: 0.0853\n",
            "Epoch 20/20, Average Loss: 0.0763\n"
          ]
        },
        {
          "data": {
            "image/png": "[encoded data removed]",
            "text/plain": [
              "<Figure size 640x480 with 1 Axes>"
            ]
          },
          "metadata": {},
          "output_type": "display_data"
        },
        {
          "name": "stdout",
          "output_type": "stream",
          "text": [
            "\n",
            "Best Model - Learning Rate: 0.001, Epochs: 20\n",
            "Best Model - Best Loss: 0.0763\n",
            "Final Evaluation - Accuracy: 0.1064, Recall: 0.1064, Precision: 0.9999\n"
          ]
        },
        {
          "name": "stderr",
          "output_type": "stream",
          "text": [
            "/opt/conda/lib/python3.9/site-packages/sklearn/metrics/_classification.py:1344: UndefinedMetricWarning: Recall is ill-defined and being set to 0.0 in labels with no true samples. Use `zero_division` parameter to control this behavior.\n",
            "  _warn_prf(average, modifier, msg_start, len(result))\n"
          ]
        }
      ],
      "source": [
        "# Sample item attributes matrix (for illustration purposes)\n",
        "item_attributes_matrix = torch.randn(30, 10)  # 30 items, 10 attributes\n",
        "\n",
        "# Sample user-item interaction data (for illustration purposes)\n",
        "# Replace 'your_table.csv' with the actual file name or path of your data\n",
        "# Assuming the table has 'user_id', 'item_id', and 'click' columns\n",
        "interactions_df = pd.read_csv('cold_data_1.csv').head(200000)\n",
        "interactions_df.drop_duplicates(subset=['user_id', 'item_id'], keep='first', inplace=True)\n",
        "\n",
        "# For example, if you want to sum the 'click' values for duplicate user-item pairs\n",
        "interactions_df = interactions_df.groupby(['user_id', 'item_id']).agg({'click': 'sum'}).reset_index()\n",
        "\n",
        "# Create the interaction matrix (using 'click' as the rating proxy)\n",
        "interaction_matrix = interactions_df.pivot_table(index='user_id', columns='item_id', values='click', fill_value=0)\n",
        "interaction_matrix = interaction_matrix.fillna(0).values\n",
        "\n",
        "# Create a mapping dictionary for item_ids to indices\n",
        "item_id_to_index = {item_id: idx for idx, item_id in enumerate(interactions_df['item_id'].unique())}\n",
        "\n",
        "# Set hyperparameters\n",
        "num_users = interactions_df['user_id'].nunique()\n",
        "num_items = interactions_df['item_id'].nunique()\n",
        "num_attributes = item_attributes_matrix.shape[1]\n",
        "embedding_dim = 16\n",
        "learning_rate = 0.01\n",
        "num_epochs = 10\n",
        "batch_size = 32\n",
        "\n",
        "# Convert user and item IDs to numerical labels using LabelEncoder\n",
        "user_encoder = LabelEncoder()\n",
        "interactions_df['user_id'] = user_encoder.fit_transform(interactions_df['user_id'])\n",
        "item_encoder = LabelEncoder()\n",
        "interactions_df['item_id'] = item_encoder.fit_transform(interactions_df['item_id'])\n",
        "\n",
        "# Split the data into train and test sets\n",
        "train_data, test_data = train_test_split(interactions_df, test_size=0.2, random_state=42)\n",
        "\n",
        "# Filter train data to include only the item_ids present in the mapping dictionary\n",
        "train_data = train_data[train_data['item_id'].isin(item_id_to_index)]\n",
        "\n",
        "# Create DataLoader for training data\n",
        "X_train_users = torch.tensor(train_data['user_id'].values, dtype=torch.long)\n",
        "X_train_items = torch.tensor(train_data['item_id'].values, dtype=torch.long)\n",
        "\n",
        "# Map the item IDs to their respective indices\n",
        "X_train_indices = train_data['item_id'].map(item_id_to_index)\n",
        "X_train_indices = X_train_indices.values\n",
        "\n",
        "# Check if any indices are out of bounds for item_attributes_matrix\n",
        "if (X_train_indices >= item_attributes_matrix.shape[0]).any():\n",
        "    num_missing_items = (X_train_indices >= item_attributes_matrix.shape[0]).sum()\n",
        "    item_attributes_matrix = torch.cat(\n",
        "        [item_attributes_matrix, torch.zeros(num_missing_items, num_attributes)],\n",
        "        dim=0\n",
        "    )\n",
        "\n",
        "# Indexing into item_attributes_matrix using the mapped indices\n",
        "X_train_attributes = item_attributes_matrix[X_train_indices]\n",
        "\n",
        "train_dataset = TensorDataset(X_train_users, X_train_items, X_train_attributes)\n",
        "train_loader = DataLoader(train_dataset, batch_size=batch_size, shuffle=True)\n",
        "\n",
        "# Instantiate the hybrid recommender model\n",
        "class HybridRecommender(nn.Module):\n",
        "    def __init__(self, num_users, num_items, embedding_dim, num_attributes):\n",
        "        super(HybridRecommender, self).__init__()\n",
        "        # Matrix factorization for user and item embeddings\n",
        "        self.user_embedding = nn.Embedding(num_users, embedding_dim)\n",
        "        self.item_embedding = nn.Embedding(num_items, embedding_dim)\n",
        "        # Content-based filtering module for item attributes\n",
        "        self.content_module = nn.Sequential(\n",
        "            nn.Linear(num_attributes, 32),  # Adjust hidden layers as needed\n",
        "            nn.ReLU(),\n",
        "            nn.Linear(32, embedding_dim)\n",
        "        )\n",
        "\n",
        "    def forward(self, user_ids, item_ids, item_attributes):\n",
        "        # Matrix factorization embeddings\n",
        "        user_embeds = self.user_embedding(user_ids)\n",
        "        item_embeds = self.item_embedding(item_ids)\n",
        "        # Content-based filtering embeddings\n",
        "        item_content_embeds = self.content_module(item_attributes)\n",
        "\n",
        "        # Combine matrix factorization and content-based embeddings\n",
        "        user_item_interaction = torch.sum(user_embeds * item_embeds, dim=1)\n",
        "        user_item_content_interaction = torch.sum(user_embeds * item_content_embeds, dim=1)\n",
        "\n",
        "        # Hybrid recommendation score\n",
        "        hybrid_score = user_item_interaction + user_item_content_interaction\n",
        "        return hybrid_score\n",
        "\n",
        "# Instantiate the hybrid recommender model\n",
        "model = HybridRecommender(num_users, num_items, embedding_dim, num_attributes)\n",
        "\n",
        "# Define the loss function and optimizer\n",
        "criterion = nn.MSELoss()\n",
        "optimizer = optim.Adam(model.parameters(), lr=learning_rate)\n",
        "\n",
        "# Hyperparameter tuning\n",
        "learning_rates = [0.01, 0.001]\n",
        "num_epochs_list = [10, 20]\n",
        "\n",
        "# Initialize best_loss with a large value\n",
        "best_loss = float('inf')\n",
        "best_model = None\n",
        "best_learning_rate = None\n",
        "best_num_epochs = None\n",
        "\n",
        "for lr in learning_rates:\n",
        "    for epochs in num_epochs_list:\n",
        "        print(f\"\\n===== Hyperparameters: LR={lr}, Epochs={epochs} =====\")\n",
        "        model = HybridRecommender(num_users, num_items, embedding_dim, num_attributes)\n",
        "        optimizer = optim.Adam(model.parameters(), lr=lr)\n",
        "        losses = []\n",
        "\n",
        "        for epoch in range(epochs):\n",
        "            total_loss = 0.0\n",
        "            model.train()\n",
        "\n",
        "            for user_ids, item_ids, item_attributes in train_loader:\n",
        "                optimizer.zero_grad()\n",
        "                hybrid_scores = model(user_ids, item_ids, item_attributes)\n",
        "                targets = torch.tensor(interaction_matrix[user_ids, item_ids], dtype=torch.float)\n",
        "                loss = criterion(hybrid_scores, targets)\n",
        "                loss.backward()\n",
        "                optimizer.step()\n",
        "\n",
        "                total_loss += loss.item()\n",
        "\n",
        "            avg_loss = total_loss / len(train_loader)\n",
        "            losses.append(avg_loss)  # Store the loss value for this epoch\n",
        "            print(f\"Epoch {epoch+1}/{epochs}, Average Loss: {avg_loss:.4f}\")\n",
        "\n",
        "        # Check if this model has the best loss so far\n",
        "        if losses[-1] < best_loss:\n",
        "            best_loss = losses[-1]\n",
        "            best_model = model\n",
        "            best_learning_rate = lr\n",
        "            best_num_epochs = epochs\n",
        "\n",
        "        # Plot the loss values for each combination\n",
        "        plt.plot(range(1, epochs + 1), losses, label=f'LR={lr}, Epochs={epochs}')\n",
        "\n",
        "# Plot the loss values for the best model\n",
        "plt.xlabel('Epoch')\n",
        "plt.ylabel('Average Loss')\n",
        "plt.title(f'Training Loss for Different Hyperparameter Combinations')\n",
        "plt.legend()\n",
        "plt.show()\n",
        "\n",
        "# Final evaluation using the best model\n",
        "print(f\"\\nBest Model - Learning Rate: {best_learning_rate}, Epochs: {best_num_epochs}\")\n",
        "print(f\"Best Model - Best Loss: {best_loss:.4f}\")\n",
        "\n",
        "# Evaluation on the test data using the best model\n",
        "best_model.eval()\n",
        "with torch.no_grad():\n",
        "    test_scores = best_model(test_users, test_items, test_attributes)\n",
        "    test_preds = torch.round(test_scores)\n",
        "    accuracy = accuracy_score(test_targets, test_preds)\n",
        "    recall = recall_score(test_targets, test_preds, average='weighted')\n",
        "    precision = precision_score(test_targets, test_preds, average='weighted')\n",
        "    print(f\"Final Evaluation - Accuracy: {accuracy:.4f}, Recall: {recall:.4f}, Precision: {precision:.4f}\")"
      ]
    },
    {
      "cell_type": "markdown",
      "metadata": {
        "id": "qjEQwtr_soh8"
      },
      "source": [
        "**Result on Traing using Tuning Hyperparameters**\n",
        "\n",
        "1- the best combination is when Learning Rate: 0.001, Epochs: 20\n",
        "\n",
        "2- the best loss : 0.0763\n",
        "\n"
      ]
    },
    {
      "cell_type": "markdown",
      "metadata": {
        "id": "6gmp3IhvuUWC"
      },
      "source": [
        "**Result on Evaluation**\n",
        "\n",
        "Accuracy: 0.1064\n",
        "\n",
        "Recall: 01064\n",
        "\n",
        "Precision: 0.9999"
      ]
    }
  ],
  "metadata": {
    "colab": {
      "provenance": []
    },
    "kernelspec": {
      "display_name": "Python 3 (ipykernel)",
      "language": "python",
      "name": "python3"
    },
    "language_info": {
      "codemirror_mode": {
        "name": "ipython",
        "version": 3
      },
      "file_extension": ".py",
      "mimetype": "text/x-python",
      "name": "python",
      "nbconvert_exporter": "python",
      "pygments_lexer": "ipython3",
      "version": "3.9.16"
    }
  },
  "nbformat": 4,
  "nbformat_minor": 0
}
